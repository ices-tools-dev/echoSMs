{
 "cells": [
  {
   "cell_type": "code",
   "execution_count": 1,
   "id": "886abd9a-6b44-48c1-9173-83e3c714a505",
   "metadata": {
    "collapsed": true,
    "jupyter": {
     "outputs_hidden": true
    }
   },
   "outputs": [
    {
     "name": "stdout",
     "output_type": "stream",
     "text": [
      "Requirement already satisfied: echosms in c:\\users\\gavinmacaulay\\miniforge3\\envs\\echopype\\lib\\site-packages (0.9.3)\n",
      "Requirement already satisfied: mapply in c:\\users\\gavinmacaulay\\miniforge3\\envs\\echopype\\lib\\site-packages (from echosms) (0.1.27)\n",
      "Requirement already satisfied: numpy in c:\\users\\gavinmacaulay\\miniforge3\\envs\\echopype\\lib\\site-packages (from echosms) (1.26.4)\n",
      "Requirement already satisfied: pandas in c:\\users\\gavinmacaulay\\miniforge3\\envs\\echopype\\lib\\site-packages (from echosms) (2.2.3)\n",
      "Requirement already satisfied: scipy in c:\\users\\gavinmacaulay\\miniforge3\\envs\\echopype\\lib\\site-packages (from echosms) (1.15.1)\n",
      "Requirement already satisfied: spheroidalwavefunctions in c:\\users\\gavinmacaulay\\miniforge3\\envs\\echopype\\lib\\site-packages (from echosms) (0.1.1)\n",
      "Requirement already satisfied: tqdm in c:\\users\\gavinmacaulay\\miniforge3\\envs\\echopype\\lib\\site-packages (from echosms) (4.67.1)\n",
      "Requirement already satisfied: trimesh in c:\\users\\gavinmacaulay\\miniforge3\\envs\\echopype\\lib\\site-packages (from echosms) (4.6.6)\n",
      "Requirement already satisfied: xarray in c:\\users\\gavinmacaulay\\miniforge3\\envs\\echopype\\lib\\site-packages (from echosms) (2025.3.1)\n",
      "Requirement already satisfied: pathos>=0.3.1 in c:\\users\\gavinmacaulay\\miniforge3\\envs\\echopype\\lib\\site-packages (from mapply->echosms) (0.3.3)\n",
      "Requirement already satisfied: multiprocess in c:\\users\\gavinmacaulay\\miniforge3\\envs\\echopype\\lib\\site-packages (from mapply->echosms) (0.70.17)\n",
      "Requirement already satisfied: psutil in c:\\users\\gavinmacaulay\\miniforge3\\envs\\echopype\\lib\\site-packages (from mapply->echosms) (7.0.0)\n",
      "Requirement already satisfied: python-dateutil>=2.8.2 in c:\\users\\gavinmacaulay\\miniforge3\\envs\\echopype\\lib\\site-packages (from pandas->echosms) (2.9.0.post0)\n",
      "Requirement already satisfied: pytz>=2020.1 in c:\\users\\gavinmacaulay\\miniforge3\\envs\\echopype\\lib\\site-packages (from pandas->echosms) (2024.1)\n",
      "Requirement already satisfied: tzdata>=2022.7 in c:\\users\\gavinmacaulay\\miniforge3\\envs\\echopype\\lib\\site-packages (from pandas->echosms) (2025.2)\n",
      "Requirement already satisfied: colorama in c:\\users\\gavinmacaulay\\miniforge3\\envs\\echopype\\lib\\site-packages (from tqdm->echosms) (0.4.6)\n",
      "Requirement already satisfied: packaging>=23.2 in c:\\users\\gavinmacaulay\\miniforge3\\envs\\echopype\\lib\\site-packages (from xarray->echosms) (24.2)\n",
      "Requirement already satisfied: ppft>=1.7.6.9 in c:\\users\\gavinmacaulay\\miniforge3\\envs\\echopype\\lib\\site-packages (from pathos>=0.3.1->mapply->echosms) (1.7.6.9)\n",
      "Requirement already satisfied: dill>=0.3.9 in c:\\users\\gavinmacaulay\\miniforge3\\envs\\echopype\\lib\\site-packages (from pathos>=0.3.1->mapply->echosms) (0.3.9)\n",
      "Requirement already satisfied: pox>=0.3.5 in c:\\users\\gavinmacaulay\\miniforge3\\envs\\echopype\\lib\\site-packages (from pathos>=0.3.1->mapply->echosms) (0.3.5)\n",
      "Requirement already satisfied: six>=1.5 in c:\\users\\gavinmacaulay\\miniforge3\\envs\\echopype\\lib\\site-packages (from python-dateutil>=2.8.2->pandas->echosms) (1.17.0)\n",
      "Note: you may need to restart the kernel to use updated packages.\n"
     ]
    }
   ],
   "source": [
    "pip install echosms"
   ]
  },
  {
   "cell_type": "code",
   "execution_count": 13,
   "id": "b03a57d6-cbd9-4516-a72c-4dc31e885a73",
   "metadata": {
    "collapsed": true,
    "jupyter": {
     "outputs_hidden": true
    }
   },
   "outputs": [],
   "source": [
    "import numpy as np\n",
    "import matplotlib.pyplot as plt\n",
    "\n",
    "import echosms"
   ]
  },
  {
   "cell_type": "markdown",
   "id": "1b30d224-d760-4542-b04e-3058fcc4e1e5",
   "metadata": {},
   "source": [
    "## Reference model specifications"
   ]
  },
  {
   "cell_type": "code",
   "execution_count": 3,
   "id": "a44feb58-98a9-4b0e-9747-c2e8d2fa90ab",
   "metadata": {
    "collapsed": true,
    "jupyter": {
     "outputs_hidden": true
    }
   },
   "outputs": [
    {
     "data": {
      "text/plain": [
       "['fixed rigid sphere',\n",
       " 'pressure release sphere',\n",
       " 'gas filled sphere',\n",
       " 'weakly scattering sphere',\n",
       " 'spherical fluid shell with pressure release interior',\n",
       " 'spherical fluid shell with gas interior',\n",
       " 'spherical fluid shell with weakly scattering interior',\n",
       " 'fixed rigid prolate spheroid',\n",
       " 'pressure release prolate spheroid',\n",
       " 'gas filled prolate spheroid',\n",
       " 'weakly scattering prolate spheroid',\n",
       " 'fixed rigid finite cylinder',\n",
       " 'pressure release finite cylinder',\n",
       " 'gas filled finite cylinder',\n",
       " 'weakly scattering finite cylinder',\n",
       " 'WC20 calibration sphere',\n",
       " 'WC21 calibration sphere',\n",
       " 'WC22 calibration sphere',\n",
       " 'WC25 calibration sphere',\n",
       " 'WC38.1 calibration sphere',\n",
       " 'WC57.2 calibration sphere',\n",
       " 'WC60 calibration sphere',\n",
       " 'WC64 calibration sphere',\n",
       " 'Cu10.3 calibration sphere',\n",
       " 'Cu13.7 calibration sphere',\n",
       " 'Cu23 calibration sphere',\n",
       " 'Cu32 calibration sphere',\n",
       " 'Cu32.1 calibration sphere',\n",
       " 'Cu42 calibration sphere',\n",
       " 'Cu45 calibration sphere',\n",
       " 'Cu60 calibration sphere',\n",
       " 'Cu63 calibration sphere',\n",
       " 'Cu64 calibration sphere']"
      ]
     },
     "execution_count": 3,
     "metadata": {},
     "output_type": "execute_result"
    }
   ],
   "source": [
    "echosms.ReferenceModels().names()"
   ]
  },
  {
   "cell_type": "code",
   "execution_count": 34,
   "id": "8e0bf633-5777-40c8-8ce1-b5c71367fe58",
   "metadata": {
    "collapsed": true,
    "jupyter": {
     "outputs_hidden": true
    }
   },
   "outputs": [
    {
     "data": {
      "text/plain": [
       "{'name': 'spherical fluid shell with weakly scattering interior',\n",
       " 'shape': 'sphere',\n",
       " 'boundary_type': 'fluid shell fluid interior',\n",
       " 'description': 'A fluid spherical shell with a weakly scattering shell and interior',\n",
       " 'a': 0.01,\n",
       " 'shell_thickness': 0.001,\n",
       " 'medium_rho': 1026.8,\n",
       " 'medium_c': 1477.3,\n",
       " 'shell_rho': 1028.9,\n",
       " 'shell_c': 1480.3,\n",
       " 'target_rho': 1031.0,\n",
       " 'target_c': 1483.3,\n",
       " 'source': 'https://doi.org/10.1121/1.4937607',\n",
       " 'benchmark_model': 'mss'}"
      ]
     },
     "execution_count": 34,
     "metadata": {},
     "output_type": "execute_result"
    }
   ],
   "source": [
    "echosms.ReferenceModels().specification('spherical fluid shell with weakly scattering interior')"
   ]
  },
  {
   "cell_type": "markdown",
   "id": "2387b066-5488-4ea8-af60-4e5ca0b309cb",
   "metadata": {},
   "source": [
    "## Running a model"
   ]
  },
  {
   "cell_type": "code",
   "execution_count": 11,
   "id": "3059c946-0416-4b3b-a3ac-ff0ca4dd9488",
   "metadata": {
    "collapsed": true,
    "jupyter": {
     "outputs_hidden": true
    }
   },
   "outputs": [
    {
     "data": {
      "text/plain": [
       "{'boundary_type': 'fluid shell fluid interior',\n",
       " 'a': 0.01,\n",
       " 'shell_thickness': 0.001,\n",
       " 'medium_rho': 1026.8,\n",
       " 'medium_c': 1477.3,\n",
       " 'shell_rho': 1028.9,\n",
       " 'shell_c': 1480.3,\n",
       " 'target_rho': 1031.0,\n",
       " 'target_c': 1483.3,\n",
       " 'f': array([  1000.,   1500.,   2000.,   2500.,   3000.,   3500.,   4000.,\n",
       "          4500.,   5000.,   5500.,   6000.,   6500.,   7000.,   7500.,\n",
       "          8000.,   8500.,   9000.,   9500.,  10000.,  10500.,  11000.,\n",
       "         11500.,  12000.,  12500.,  13000.,  13500.,  14000.,  14500.,\n",
       "         15000.,  15500.,  16000.,  16500.,  17000.,  17500.,  18000.,\n",
       "         18500.,  19000.,  19500.,  20000.,  20500.,  21000.,  21500.,\n",
       "         22000.,  22500.,  23000.,  23500.,  24000.,  24500.,  25000.,\n",
       "         25500.,  26000.,  26500.,  27000.,  27500.,  28000.,  28500.,\n",
       "         29000.,  29500.,  30000.,  30500.,  31000.,  31500.,  32000.,\n",
       "         32500.,  33000.,  33500.,  34000.,  34500.,  35000.,  35500.,\n",
       "         36000.,  36500.,  37000.,  37500.,  38000.,  38500.,  39000.,\n",
       "         39500.,  40000.,  40500.,  41000.,  41500.,  42000.,  42500.,\n",
       "         43000.,  43500.,  44000.,  44500.,  45000.,  45500.,  46000.,\n",
       "         46500.,  47000.,  47500.,  48000.,  48500.,  49000.,  49500.,\n",
       "         50000.,  50500.,  51000.,  51500.,  52000.,  52500.,  53000.,\n",
       "         53500.,  54000.,  54500.,  55000.,  55500.,  56000.,  56500.,\n",
       "         57000.,  57500.,  58000.,  58500.,  59000.,  59500.,  60000.,\n",
       "         60500.,  61000.,  61500.,  62000.,  62500.,  63000.,  63500.,\n",
       "         64000.,  64500.,  65000.,  65500.,  66000.,  66500.,  67000.,\n",
       "         67500.,  68000.,  68500.,  69000.,  69500.,  70000.,  70500.,\n",
       "         71000.,  71500.,  72000.,  72500.,  73000.,  73500.,  74000.,\n",
       "         74500.,  75000.,  75500.,  76000.,  76500.,  77000.,  77500.,\n",
       "         78000.,  78500.,  79000.,  79500.,  80000.,  80500.,  81000.,\n",
       "         81500.,  82000.,  82500.,  83000.,  83500.,  84000.,  84500.,\n",
       "         85000.,  85500.,  86000.,  86500.,  87000.,  87500.,  88000.,\n",
       "         88500.,  89000.,  89500.,  90000.,  90500.,  91000.,  91500.,\n",
       "         92000.,  92500.,  93000.,  93500.,  94000.,  94500.,  95000.,\n",
       "         95500.,  96000.,  96500.,  97000.,  97500.,  98000.,  98500.,\n",
       "         99000.,  99500., 100000., 100500., 101000., 101500., 102000.,\n",
       "        102500., 103000., 103500., 104000., 104500., 105000., 105500.,\n",
       "        106000., 106500., 107000., 107500., 108000., 108500., 109000.,\n",
       "        109500., 110000., 110500., 111000., 111500., 112000., 112500.,\n",
       "        113000., 113500., 114000., 114500., 115000., 115500., 116000.,\n",
       "        116500., 117000., 117500., 118000., 118500., 119000., 119500.,\n",
       "        120000., 120500., 121000., 121500., 122000., 122500., 123000.,\n",
       "        123500., 124000., 124500., 125000., 125500., 126000., 126500.,\n",
       "        127000., 127500., 128000., 128500., 129000., 129500., 130000.,\n",
       "        130500., 131000., 131500., 132000., 132500., 133000., 133500.,\n",
       "        134000., 134500., 135000., 135500., 136000., 136500., 137000.,\n",
       "        137500., 138000., 138500., 139000., 139500., 140000., 140500.,\n",
       "        141000., 141500., 142000., 142500., 143000., 143500., 144000.,\n",
       "        144500., 145000., 145500., 146000., 146500., 147000., 147500.,\n",
       "        148000., 148500., 149000., 149500., 150000., 150500., 151000.,\n",
       "        151500., 152000., 152500., 153000., 153500., 154000., 154500.,\n",
       "        155000., 155500., 156000., 156500., 157000., 157500., 158000.,\n",
       "        158500., 159000., 159500., 160000., 160500., 161000., 161500.,\n",
       "        162000., 162500., 163000., 163500., 164000., 164500., 165000.,\n",
       "        165500., 166000., 166500., 167000., 167500., 168000., 168500.,\n",
       "        169000., 169500., 170000., 170500., 171000., 171500., 172000.,\n",
       "        172500., 173000., 173500., 174000., 174500., 175000., 175500.,\n",
       "        176000., 176500., 177000., 177500., 178000., 178500., 179000.,\n",
       "        179500., 180000., 180500., 181000., 181500., 182000., 182500.,\n",
       "        183000., 183500., 184000., 184500., 185000., 185500., 186000.,\n",
       "        186500., 187000., 187500., 188000., 188500., 189000., 189500.,\n",
       "        190000., 190500., 191000., 191500., 192000., 192500., 193000.,\n",
       "        193500., 194000., 194500., 195000., 195500., 196000., 196500.,\n",
       "        197000., 197500., 198000., 198500., 199000., 199500.])}"
      ]
     },
     "execution_count": 11,
     "metadata": {},
     "output_type": "execute_result"
    }
   ],
   "source": [
    "p = echosms.ReferenceModels().parameters('spherical fluid shell with weakly scattering interior')\n",
    "p['f'] = np.arange(1000, 200e3, 500)\n",
    "p"
   ]
  },
  {
   "cell_type": "code",
   "execution_count": 14,
   "id": "8b8860ae-4236-4c58-9c44-e8425e4b55fc",
   "metadata": {
    "collapsed": true,
    "jupyter": {
     "outputs_hidden": true
    }
   },
   "outputs": [
    {
     "name": "stderr",
     "output_type": "stream",
     "text": [
      "mss: 100%|███████████████████████████████████████████████████████████████████████████████████ [398/398; 16.08 models/s]\n"
     ]
    },
    {
     "data": {
      "text/html": [
       "<div>\n",
       "<style scoped>\n",
       "    .dataframe tbody tr th:only-of-type {\n",
       "        vertical-align: middle;\n",
       "    }\n",
       "\n",
       "    .dataframe tbody tr th {\n",
       "        vertical-align: top;\n",
       "    }\n",
       "\n",
       "    .dataframe thead th {\n",
       "        text-align: right;\n",
       "    }\n",
       "</style>\n",
       "<table border=\"1\" class=\"dataframe\">\n",
       "  <thead>\n",
       "    <tr style=\"text-align: right;\">\n",
       "      <th></th>\n",
       "      <th>boundary_type</th>\n",
       "      <th>a</th>\n",
       "      <th>shell_thickness</th>\n",
       "      <th>medium_rho</th>\n",
       "      <th>medium_c</th>\n",
       "      <th>shell_rho</th>\n",
       "      <th>shell_c</th>\n",
       "      <th>target_rho</th>\n",
       "      <th>target_c</th>\n",
       "      <th>f</th>\n",
       "      <th>ts</th>\n",
       "    </tr>\n",
       "  </thead>\n",
       "  <tbody>\n",
       "    <tr>\n",
       "      <th>0</th>\n",
       "      <td>fluid shell fluid interior</td>\n",
       "      <td>0.01</td>\n",
       "      <td>0.001</td>\n",
       "      <td>1026.8</td>\n",
       "      <td>1477.3</td>\n",
       "      <td>1028.9</td>\n",
       "      <td>1480.3</td>\n",
       "      <td>1031.0</td>\n",
       "      <td>1483.3</td>\n",
       "      <td>1000.0</td>\n",
       "      <td>-141.472941</td>\n",
       "    </tr>\n",
       "    <tr>\n",
       "      <th>1</th>\n",
       "      <td>fluid shell fluid interior</td>\n",
       "      <td>0.01</td>\n",
       "      <td>0.001</td>\n",
       "      <td>1026.8</td>\n",
       "      <td>1477.3</td>\n",
       "      <td>1028.9</td>\n",
       "      <td>1480.3</td>\n",
       "      <td>1031.0</td>\n",
       "      <td>1483.3</td>\n",
       "      <td>1500.0</td>\n",
       "      <td>-134.436584</td>\n",
       "    </tr>\n",
       "    <tr>\n",
       "      <th>2</th>\n",
       "      <td>fluid shell fluid interior</td>\n",
       "      <td>0.01</td>\n",
       "      <td>0.001</td>\n",
       "      <td>1026.8</td>\n",
       "      <td>1477.3</td>\n",
       "      <td>1028.9</td>\n",
       "      <td>1480.3</td>\n",
       "      <td>1031.0</td>\n",
       "      <td>1483.3</td>\n",
       "      <td>2000.0</td>\n",
       "      <td>-129.449249</td>\n",
       "    </tr>\n",
       "    <tr>\n",
       "      <th>3</th>\n",
       "      <td>fluid shell fluid interior</td>\n",
       "      <td>0.01</td>\n",
       "      <td>0.001</td>\n",
       "      <td>1026.8</td>\n",
       "      <td>1477.3</td>\n",
       "      <td>1028.9</td>\n",
       "      <td>1480.3</td>\n",
       "      <td>1031.0</td>\n",
       "      <td>1483.3</td>\n",
       "      <td>2500.0</td>\n",
       "      <td>-125.585985</td>\n",
       "    </tr>\n",
       "    <tr>\n",
       "      <th>4</th>\n",
       "      <td>fluid shell fluid interior</td>\n",
       "      <td>0.01</td>\n",
       "      <td>0.001</td>\n",
       "      <td>1026.8</td>\n",
       "      <td>1477.3</td>\n",
       "      <td>1028.9</td>\n",
       "      <td>1480.3</td>\n",
       "      <td>1031.0</td>\n",
       "      <td>1483.3</td>\n",
       "      <td>3000.0</td>\n",
       "      <td>-122.434799</td>\n",
       "    </tr>\n",
       "    <tr>\n",
       "      <th>...</th>\n",
       "      <td>...</td>\n",
       "      <td>...</td>\n",
       "      <td>...</td>\n",
       "      <td>...</td>\n",
       "      <td>...</td>\n",
       "      <td>...</td>\n",
       "      <td>...</td>\n",
       "      <td>...</td>\n",
       "      <td>...</td>\n",
       "      <td>...</td>\n",
       "      <td>...</td>\n",
       "    </tr>\n",
       "    <tr>\n",
       "      <th>393</th>\n",
       "      <td>fluid shell fluid interior</td>\n",
       "      <td>0.01</td>\n",
       "      <td>0.001</td>\n",
       "      <td>1026.8</td>\n",
       "      <td>1477.3</td>\n",
       "      <td>1028.9</td>\n",
       "      <td>1480.3</td>\n",
       "      <td>1031.0</td>\n",
       "      <td>1483.3</td>\n",
       "      <td>197500.0</td>\n",
       "      <td>-92.129348</td>\n",
       "    </tr>\n",
       "    <tr>\n",
       "      <th>394</th>\n",
       "      <td>fluid shell fluid interior</td>\n",
       "      <td>0.01</td>\n",
       "      <td>0.001</td>\n",
       "      <td>1026.8</td>\n",
       "      <td>1477.3</td>\n",
       "      <td>1028.9</td>\n",
       "      <td>1480.3</td>\n",
       "      <td>1031.0</td>\n",
       "      <td>1483.3</td>\n",
       "      <td>198000.0</td>\n",
       "      <td>-92.279793</td>\n",
       "    </tr>\n",
       "    <tr>\n",
       "      <th>395</th>\n",
       "      <td>fluid shell fluid interior</td>\n",
       "      <td>0.01</td>\n",
       "      <td>0.001</td>\n",
       "      <td>1026.8</td>\n",
       "      <td>1477.3</td>\n",
       "      <td>1028.9</td>\n",
       "      <td>1480.3</td>\n",
       "      <td>1031.0</td>\n",
       "      <td>1483.3</td>\n",
       "      <td>198500.0</td>\n",
       "      <td>-92.446714</td>\n",
       "    </tr>\n",
       "    <tr>\n",
       "      <th>396</th>\n",
       "      <td>fluid shell fluid interior</td>\n",
       "      <td>0.01</td>\n",
       "      <td>0.001</td>\n",
       "      <td>1026.8</td>\n",
       "      <td>1477.3</td>\n",
       "      <td>1028.9</td>\n",
       "      <td>1480.3</td>\n",
       "      <td>1031.0</td>\n",
       "      <td>1483.3</td>\n",
       "      <td>199000.0</td>\n",
       "      <td>-92.630662</td>\n",
       "    </tr>\n",
       "    <tr>\n",
       "      <th>397</th>\n",
       "      <td>fluid shell fluid interior</td>\n",
       "      <td>0.01</td>\n",
       "      <td>0.001</td>\n",
       "      <td>1026.8</td>\n",
       "      <td>1477.3</td>\n",
       "      <td>1028.9</td>\n",
       "      <td>1480.3</td>\n",
       "      <td>1031.0</td>\n",
       "      <td>1483.3</td>\n",
       "      <td>199500.0</td>\n",
       "      <td>-92.832272</td>\n",
       "    </tr>\n",
       "  </tbody>\n",
       "</table>\n",
       "<p>398 rows × 11 columns</p>\n",
       "</div>"
      ],
      "text/plain": [
       "                  boundary_type     a  shell_thickness  medium_rho  medium_c  \\\n",
       "0    fluid shell fluid interior  0.01            0.001      1026.8    1477.3   \n",
       "1    fluid shell fluid interior  0.01            0.001      1026.8    1477.3   \n",
       "2    fluid shell fluid interior  0.01            0.001      1026.8    1477.3   \n",
       "3    fluid shell fluid interior  0.01            0.001      1026.8    1477.3   \n",
       "4    fluid shell fluid interior  0.01            0.001      1026.8    1477.3   \n",
       "..                          ...   ...              ...         ...       ...   \n",
       "393  fluid shell fluid interior  0.01            0.001      1026.8    1477.3   \n",
       "394  fluid shell fluid interior  0.01            0.001      1026.8    1477.3   \n",
       "395  fluid shell fluid interior  0.01            0.001      1026.8    1477.3   \n",
       "396  fluid shell fluid interior  0.01            0.001      1026.8    1477.3   \n",
       "397  fluid shell fluid interior  0.01            0.001      1026.8    1477.3   \n",
       "\n",
       "     shell_rho  shell_c  target_rho  target_c         f          ts  \n",
       "0       1028.9   1480.3      1031.0    1483.3    1000.0 -141.472941  \n",
       "1       1028.9   1480.3      1031.0    1483.3    1500.0 -134.436584  \n",
       "2       1028.9   1480.3      1031.0    1483.3    2000.0 -129.449249  \n",
       "3       1028.9   1480.3      1031.0    1483.3    2500.0 -125.585985  \n",
       "4       1028.9   1480.3      1031.0    1483.3    3000.0 -122.434799  \n",
       "..         ...      ...         ...       ...       ...         ...  \n",
       "393     1028.9   1480.3      1031.0    1483.3  197500.0  -92.129348  \n",
       "394     1028.9   1480.3      1031.0    1483.3  198000.0  -92.279793  \n",
       "395     1028.9   1480.3      1031.0    1483.3  198500.0  -92.446714  \n",
       "396     1028.9   1480.3      1031.0    1483.3  199000.0  -92.630662  \n",
       "397     1028.9   1480.3      1031.0    1483.3  199500.0  -92.832272  \n",
       "\n",
       "[398 rows x 11 columns]"
      ]
     },
     "execution_count": 14,
     "metadata": {},
     "output_type": "execute_result"
    }
   ],
   "source": [
    "model = echosms.MSSModel()\n",
    "r = model.calculate_ts(p, expand=True, progress=True)\n",
    "r"
   ]
  },
  {
   "cell_type": "code",
   "execution_count": 17,
   "id": "fa71749d-535b-43a9-9236-131a85b97ea7",
   "metadata": {
    "collapsed": true,
    "jupyter": {
     "outputs_hidden": true
    }
   },
   "outputs": [
    {
     "data": {
      "text/plain": [
       "[<matplotlib.lines.Line2D at 0x2a33f155a30>]"
      ]
     },
     "execution_count": 17,
     "metadata": {},
     "output_type": "execute_result"
    },
    {
     "data": {
      "image/png": "[encoded data removed]",
      "text/plain": [
       "<Figure size 640x480 with 1 Axes>"
      ]
     },
     "metadata": {},
     "output_type": "display_data"
    }
   ],
   "source": [
    "plt.plot(r.f/1e3, r.ts)"
   ]
  },
  {
   "cell_type": "markdown",
   "id": "333921d1-f155-4fac-b43a-9b4e78b1d758",
   "metadata": {},
   "source": [
    "## Model shapes"
   ]
  },
  {
   "cell_type": "code",
   "execution_count": 18,
   "id": "f04bdc6d-9c7e-4e63-80bc-41d85304fe68",
   "metadata": {
    "collapsed": true,
    "jupyter": {
     "outputs_hidden": true
    }
   },
   "outputs": [
    {
     "data": {
      "text/plain": [
       "['Cod A',\n",
       " 'Cod B',\n",
       " 'Cod C',\n",
       " 'Cod D',\n",
       " 'Sardine',\n",
       " 'Cod',\n",
       " 'Bocaccio',\n",
       " 'LargemouthBass_620',\n",
       " 'LargemouthBass_620_Lateral',\n",
       " 'LargemouthBass_627',\n",
       " 'LargemouthBass_627_Lateral',\n",
       " 'StripedBass_205',\n",
       " 'StripedBass_205_Lateral',\n",
       " 'StripedBass_628',\n",
       " 'StripedBass_628_Lateral',\n",
       " 'ChannelCatfish_1086',\n",
       " 'ChannelCatfish_1086_Lateral',\n",
       " 'WhiteCatfish_185',\n",
       " 'WhiteCatfish_185_Lateral',\n",
       " 'BlackCrappie_236',\n",
       " 'BlackCrappie_236_Lateral',\n",
       " 'Sandfish_200_Female',\n",
       " 'Sandfish_175_Male',\n",
       " 'Corvina_20140317_001_Broadside',\n",
       " 'Corvina_20140317_008_Broadside',\n",
       " 'Corvina_20140331_003_Broadside',\n",
       " 'Corvina_20140331_005_Broadside',\n",
       " 'Corvina_20140331_008_Broadside',\n",
       " 'AtlanticMackerel_26.94cm',\n",
       " 'AtlanticMackerel_backbone_26.94cm',\n",
       " 'AtlanticMackerel_backboneSkull_26.94cm',\n",
       " 'AtlanticMackerel_19.52cm',\n",
       " 'AtlanticMackerel_backbone_19.52cm',\n",
       " 'AtlanticMackerel_backboneSkull_19.52cm',\n",
       " 'SkipjackTuna_46.54cm',\n",
       " 'SkipjackTuna_backbone_46.54cm',\n",
       " 'SkipjackTuna_backboneSkull_46.54cm',\n",
       " 'SkipjackTuna_41.18cm',\n",
       " 'SkipjackTuna_backbone_41.18cm',\n",
       " 'SkipjackTuna_backboneSkull_41.18cm']"
      ]
     },
     "execution_count": 18,
     "metadata": {},
     "output_type": "execute_result"
    }
   ],
   "source": [
    "echosms.KRMdata().names()"
   ]
  },
  {
   "cell_type": "code",
   "execution_count": 19,
   "id": "afbfed70-9de0-4c27-a50d-f45ac08ca02d",
   "metadata": {
    "collapsed": true,
    "jupyter": {
     "outputs_hidden": true
    }
   },
   "outputs": [
    {
     "data": {
      "image/png": "[encoded data removed]",
      "text/plain": [
       "<Figure size 640x480 with 1 Axes>"
      ]
     },
     "metadata": {},
     "output_type": "display_data"
    }
   ],
   "source": [
    "echosms.KRMdata().model('Cod A').plot()"
   ]
  },
  {
   "cell_type": "code",
   "execution_count": 20,
   "id": "afd3c7e9-c4f1-423d-8075-84204ee91830",
   "metadata": {
    "collapsed": true,
    "jupyter": {
     "outputs_hidden": true
    }
   },
   "outputs": [
    {
     "data": {
      "text/plain": [
       "['Daphnia',\n",
       " 'Daphnia2',\n",
       " 'Generic acartia',\n",
       " 'Generic krill (Conti 2006)',\n",
       " 'Generic krill (McGehee 1998)',\n",
       " 'Nauplius',\n",
       " 'Sandeel']"
      ]
     },
     "execution_count": 20,
     "metadata": {},
     "output_type": "execute_result"
    }
   ],
   "source": [
    "echosms.DWBAdata().names()"
   ]
  },
  {
   "cell_type": "code",
   "execution_count": 21,
   "id": "85929760-6be1-4614-b040-b61a0b3a078e",
   "metadata": {
    "collapsed": true,
    "jupyter": {
     "outputs_hidden": true
    }
   },
   "outputs": [
    {
     "data": {
      "image/png": "[encoded data removed]",
      "text/plain": [
       "<Figure size 640x480 with 2 Axes>"
      ]
     },
     "metadata": {},
     "output_type": "display_data"
    }
   ],
   "source": [
    "echosms.DWBAdata().model('Generic krill (Conti 2006)').plot()"
   ]
  },
  {
   "cell_type": "code",
   "execution_count": 24,
   "id": "f81c6a21-f9e4-4c0b-8b84-1f3590402ffa",
   "metadata": {
    "collapsed": true,
    "jupyter": {
     "outputs_hidden": true
    }
   },
   "outputs": [
    {
     "data": {
      "text/plain": [
       "KRMorganism(name='Cod B', source='https://doi.org/10.1121/1.404903', body=KRMshape(boundary='fluid', x=array([-0.    , -0.0156, -0.0312, -0.0468, -0.0625, -0.0781, -0.0937,\n",
       "       -0.1093, -0.125 , -0.1406, -0.15  ]), w=array([0.0046, 0.0171, 0.0195, 0.0203, 0.0179, 0.0148, 0.0125, 0.0085,\n",
       "       0.0054, 0.0023, 0.0007]), z_U=array([0.0039, 0.0101, 0.014 , 0.0148, 0.0132, 0.0117, 0.0078, 0.0054,\n",
       "       0.0039, 0.0039, 0.0015]), z_L=array([-0.0024, -0.0086, -0.0149, -0.0211, -0.0211, -0.0149, -0.0094,\n",
       "       -0.0086, -0.0055, -0.004 , -0.0008]), c=1570, rho=1070), inclusions=[KRMshape(boundary='soft', x=array([-0.0398, -0.0468, -0.0546, -0.0625, -0.0703, -0.0781, -0.082 ]), w=array([0.0054, 0.0085, 0.0078, 0.0062, 0.0046, 0.0031, 0.0015]), z_U=array([ 0.0031,  0.0039,  0.0039,  0.0015, -0.0016, -0.004 , -0.004 ]), z_L=array([ 0.0007, -0.0008, -0.0024, -0.0047, -0.0063, -0.0055, -0.0047]), c=345, rho=1.24)])"
      ]
     },
     "execution_count": 24,
     "metadata": {},
     "output_type": "execute_result"
    }
   ],
   "source": [
    "cod = echosms.KRMdata().model('Cod B')\n",
    "cod"
   ]
  },
  {
   "cell_type": "code",
   "execution_count": 25,
   "id": "d8bb4fa3-c44e-4ef2-b568-b4eada298565",
   "metadata": {
    "collapsed": true,
    "jupyter": {
     "outputs_hidden": true
    }
   },
   "outputs": [],
   "source": [
    "p = {'medium_c': 1490, 'medium_rho': 1030, 'organism': cod, 'theta': 90, 'f': np.arange(12, 121, 1)*1e3}"
   ]
  },
  {
   "cell_type": "code",
   "execution_count": 28,
   "id": "e73374c2-bf2b-458c-90b0-59b8172d49c6",
   "metadata": {
    "collapsed": true,
    "jupyter": {
     "outputs_hidden": true
    }
   },
   "outputs": [],
   "source": [
    "model = echosms.KRMModel()\n",
    "ts = model.calculate_ts(p)"
   ]
  },
  {
   "cell_type": "code",
   "execution_count": 30,
   "id": "1fc20070-2af7-4c96-b0e7-536f29d2fbfb",
   "metadata": {
    "collapsed": true,
    "jupyter": {
     "outputs_hidden": true
    }
   },
   "outputs": [
    {
     "data": {
      "text/plain": [
       "[<matplotlib.lines.Line2D at 0x2a33f87a870>]"
      ]
     },
     "execution_count": 30,
     "metadata": {},
     "output_type": "execute_result"
    },
    {
     "data": {
      "image/png": "[encoded data removed]",
      "text/plain": [
       "<Figure size 640x480 with 1 Axes>"
      ]
     },
     "metadata": {},
     "output_type": "display_data"
    }
   ],
   "source": [
    "plt.plot(p['f']/1e3, ts)"
   ]
  },
  {
   "cell_type": "code",
   "execution_count": 33,
   "id": "4fceb3f1-7f88-4416-bd09-a5190bd0c1d1",
   "metadata": {
    "collapsed": true,
    "jupyter": {
     "outputs_hidden": true
    }
   },
   "outputs": [
    {
     "data": {
      "text/html": [
       "<div>\n",
       "<style scoped>\n",
       "    .dataframe tbody tr th:only-of-type {\n",
       "        vertical-align: middle;\n",
       "    }\n",
       "\n",
       "    .dataframe tbody tr th {\n",
       "        vertical-align: top;\n",
       "    }\n",
       "\n",
       "    .dataframe thead th {\n",
       "        text-align: right;\n",
       "    }\n",
       "</style>\n",
       "<table border=\"1\" class=\"dataframe\">\n",
       "  <thead>\n",
       "    <tr style=\"text-align: right;\">\n",
       "      <th></th>\n",
       "      <th>fixed rigid sphere</th>\n",
       "      <th>pressure release sphere</th>\n",
       "      <th>gas filled sphere</th>\n",
       "      <th>weakly scattering sphere</th>\n",
       "      <th>spherical fluid shell with pressure release interior</th>\n",
       "      <th>spherical fluid shell with gas interior</th>\n",
       "      <th>spherical fluid shell with weakly scattering interior</th>\n",
       "      <th>fixed rigid prolate spheroid</th>\n",
       "      <th>pressure release prolate spheroid</th>\n",
       "      <th>gas filled prolate spheroid</th>\n",
       "      <th>weakly scattering prolate spheroid</th>\n",
       "      <th>fixed rigid finite cylinder</th>\n",
       "      <th>pressure release finite cylinder</th>\n",
       "      <th>gas filled finite cylinder</th>\n",
       "      <th>weakly scattering finite cylinder</th>\n",
       "    </tr>\n",
       "    <tr>\n",
       "      <th>frequency</th>\n",
       "      <th></th>\n",
       "      <th></th>\n",
       "      <th></th>\n",
       "      <th></th>\n",
       "      <th></th>\n",
       "      <th></th>\n",
       "      <th></th>\n",
       "      <th></th>\n",
       "      <th></th>\n",
       "      <th></th>\n",
       "      <th></th>\n",
       "      <th></th>\n",
       "      <th></th>\n",
       "      <th></th>\n",
       "      <th></th>\n",
       "    </tr>\n",
       "  </thead>\n",
       "  <tbody>\n",
       "    <tr>\n",
       "      <th>12000.0</th>\n",
       "      <td>-54.44</td>\n",
       "      <td>-42.29</td>\n",
       "      <td>-42.34</td>\n",
       "      <td>-103.95</td>\n",
       "      <td>-42.83</td>\n",
       "      <td>-42.80</td>\n",
       "      <td>-99.15</td>\n",
       "      <td>-35.98</td>\n",
       "      <td>-30.16</td>\n",
       "      <td>NaN</td>\n",
       "      <td>-87.05</td>\n",
       "      <td>-38.75</td>\n",
       "      <td>-35.29</td>\n",
       "      <td>-35.30</td>\n",
       "      <td>-89.79</td>\n",
       "    </tr>\n",
       "    <tr>\n",
       "      <th>14000.0</th>\n",
       "      <td>-52.20</td>\n",
       "      <td>-42.92</td>\n",
       "      <td>-42.93</td>\n",
       "      <td>-101.62</td>\n",
       "      <td>-43.40</td>\n",
       "      <td>-43.44</td>\n",
       "      <td>-96.79</td>\n",
       "      <td>-33.83</td>\n",
       "      <td>-30.02</td>\n",
       "      <td>NaN</td>\n",
       "      <td>-84.71</td>\n",
       "      <td>-36.83</td>\n",
       "      <td>-34.93</td>\n",
       "      <td>-34.93</td>\n",
       "      <td>-87.54</td>\n",
       "    </tr>\n",
       "    <tr>\n",
       "      <th>16000.0</th>\n",
       "      <td>-50.40</td>\n",
       "      <td>-43.52</td>\n",
       "      <td>-43.52</td>\n",
       "      <td>-99.69</td>\n",
       "      <td>-43.96</td>\n",
       "      <td>-43.99</td>\n",
       "      <td>-94.83</td>\n",
       "      <td>-32.20</td>\n",
       "      <td>-29.87</td>\n",
       "      <td>NaN</td>\n",
       "      <td>-82.78</td>\n",
       "      <td>-35.45</td>\n",
       "      <td>-34.56</td>\n",
       "      <td>-34.56</td>\n",
       "      <td>-85.73</td>\n",
       "    </tr>\n",
       "    <tr>\n",
       "      <th>18000.0</th>\n",
       "      <td>-48.96</td>\n",
       "      <td>-44.02</td>\n",
       "      <td>-44.03</td>\n",
       "      <td>-98.10</td>\n",
       "      <td>-44.49</td>\n",
       "      <td>-44.51</td>\n",
       "      <td>-93.20</td>\n",
       "      <td>-30.97</td>\n",
       "      <td>-29.70</td>\n",
       "      <td>NaN</td>\n",
       "      <td>-81.19</td>\n",
       "      <td>-34.51</td>\n",
       "      <td>-34.17</td>\n",
       "      <td>-34.18</td>\n",
       "      <td>-84.27</td>\n",
       "    </tr>\n",
       "    <tr>\n",
       "      <th>20000.0</th>\n",
       "      <td>-47.85</td>\n",
       "      <td>-44.39</td>\n",
       "      <td>-44.40</td>\n",
       "      <td>-96.79</td>\n",
       "      <td>-44.94</td>\n",
       "      <td>-44.97</td>\n",
       "      <td>-91.85</td>\n",
       "      <td>-30.08</td>\n",
       "      <td>-29.54</td>\n",
       "      <td>NaN</td>\n",
       "      <td>-79.87</td>\n",
       "      <td>-33.95</td>\n",
       "      <td>-33.80</td>\n",
       "      <td>-33.81</td>\n",
       "      <td>-83.12</td>\n",
       "    </tr>\n",
       "    <tr>\n",
       "      <th>...</th>\n",
       "      <td>...</td>\n",
       "      <td>...</td>\n",
       "      <td>...</td>\n",
       "      <td>...</td>\n",
       "      <td>...</td>\n",
       "      <td>...</td>\n",
       "      <td>...</td>\n",
       "      <td>...</td>\n",
       "      <td>...</td>\n",
       "      <td>...</td>\n",
       "      <td>...</td>\n",
       "      <td>...</td>\n",
       "      <td>...</td>\n",
       "      <td>...</td>\n",
       "      <td>...</td>\n",
       "    </tr>\n",
       "    <tr>\n",
       "      <th>392000.0</th>\n",
       "      <td>-45.96</td>\n",
       "      <td>-46.00</td>\n",
       "      <td>-46.03</td>\n",
       "      <td>-103.61</td>\n",
       "      <td>-46.91</td>\n",
       "      <td>-46.88</td>\n",
       "      <td>-108.29</td>\n",
       "      <td>NaN</td>\n",
       "      <td>NaN</td>\n",
       "      <td>NaN</td>\n",
       "      <td>-86.94</td>\n",
       "      <td>-21.74</td>\n",
       "      <td>-21.86</td>\n",
       "      <td>-21.92</td>\n",
       "      <td>-70.78</td>\n",
       "    </tr>\n",
       "    <tr>\n",
       "      <th>394000.0</th>\n",
       "      <td>-45.86</td>\n",
       "      <td>-46.00</td>\n",
       "      <td>-45.96</td>\n",
       "      <td>-100.25</td>\n",
       "      <td>-46.91</td>\n",
       "      <td>-46.78</td>\n",
       "      <td>-107.19</td>\n",
       "      <td>NaN</td>\n",
       "      <td>NaN</td>\n",
       "      <td>NaN</td>\n",
       "      <td>-83.45</td>\n",
       "      <td>-21.72</td>\n",
       "      <td>-21.84</td>\n",
       "      <td>-21.83</td>\n",
       "      <td>-70.14</td>\n",
       "    </tr>\n",
       "    <tr>\n",
       "      <th>396000.0</th>\n",
       "      <td>-45.80</td>\n",
       "      <td>-46.00</td>\n",
       "      <td>-46.07</td>\n",
       "      <td>-98.03</td>\n",
       "      <td>-46.91</td>\n",
       "      <td>-46.75</td>\n",
       "      <td>-106.49</td>\n",
       "      <td>NaN</td>\n",
       "      <td>NaN</td>\n",
       "      <td>NaN</td>\n",
       "      <td>-81.16</td>\n",
       "      <td>-21.70</td>\n",
       "      <td>-21.82</td>\n",
       "      <td>-21.82</td>\n",
       "      <td>-69.78</td>\n",
       "    </tr>\n",
       "    <tr>\n",
       "      <th>398000.0</th>\n",
       "      <td>-45.80</td>\n",
       "      <td>-46.00</td>\n",
       "      <td>-45.96</td>\n",
       "      <td>-96.47</td>\n",
       "      <td>-46.91</td>\n",
       "      <td>-46.99</td>\n",
       "      <td>-106.14</td>\n",
       "      <td>NaN</td>\n",
       "      <td>NaN</td>\n",
       "      <td>NaN</td>\n",
       "      <td>-79.55</td>\n",
       "      <td>-21.68</td>\n",
       "      <td>-21.80</td>\n",
       "      <td>-21.79</td>\n",
       "      <td>-69.68</td>\n",
       "    </tr>\n",
       "    <tr>\n",
       "      <th>400000.0</th>\n",
       "      <td>-45.84</td>\n",
       "      <td>-46.00</td>\n",
       "      <td>-46.05</td>\n",
       "      <td>-95.37</td>\n",
       "      <td>-46.91</td>\n",
       "      <td>-46.94</td>\n",
       "      <td>-106.15</td>\n",
       "      <td>NaN</td>\n",
       "      <td>NaN</td>\n",
       "      <td>NaN</td>\n",
       "      <td>-78.41</td>\n",
       "      <td>-21.65</td>\n",
       "      <td>-21.77</td>\n",
       "      <td>-21.79</td>\n",
       "      <td>-69.83</td>\n",
       "    </tr>\n",
       "  </tbody>\n",
       "</table>\n",
       "<p>195 rows × 15 columns</p>\n",
       "</div>"
      ],
      "text/plain": [
       "           fixed rigid sphere  pressure release sphere  gas filled sphere  \\\n",
       "frequency                                                                   \n",
       "12000.0                -54.44                   -42.29             -42.34   \n",
       "14000.0                -52.20                   -42.92             -42.93   \n",
       "16000.0                -50.40                   -43.52             -43.52   \n",
       "18000.0                -48.96                   -44.02             -44.03   \n",
       "20000.0                -47.85                   -44.39             -44.40   \n",
       "...                       ...                      ...                ...   \n",
       "392000.0               -45.96                   -46.00             -46.03   \n",
       "394000.0               -45.86                   -46.00             -45.96   \n",
       "396000.0               -45.80                   -46.00             -46.07   \n",
       "398000.0               -45.80                   -46.00             -45.96   \n",
       "400000.0               -45.84                   -46.00             -46.05   \n",
       "\n",
       "           weakly scattering sphere  \\\n",
       "frequency                             \n",
       "12000.0                     -103.95   \n",
       "14000.0                     -101.62   \n",
       "16000.0                      -99.69   \n",
       "18000.0                      -98.10   \n",
       "20000.0                      -96.79   \n",
       "...                             ...   \n",
       "392000.0                    -103.61   \n",
       "394000.0                    -100.25   \n",
       "396000.0                     -98.03   \n",
       "398000.0                     -96.47   \n",
       "400000.0                     -95.37   \n",
       "\n",
       "           spherical fluid shell with pressure release interior  \\\n",
       "frequency                                                         \n",
       "12000.0                                               -42.83      \n",
       "14000.0                                               -43.40      \n",
       "16000.0                                               -43.96      \n",
       "18000.0                                               -44.49      \n",
       "20000.0                                               -44.94      \n",
       "...                                                      ...      \n",
       "392000.0                                              -46.91      \n",
       "394000.0                                              -46.91      \n",
       "396000.0                                              -46.91      \n",
       "398000.0                                              -46.91      \n",
       "400000.0                                              -46.91      \n",
       "\n",
       "           spherical fluid shell with gas interior  \\\n",
       "frequency                                            \n",
       "12000.0                                     -42.80   \n",
       "14000.0                                     -43.44   \n",
       "16000.0                                     -43.99   \n",
       "18000.0                                     -44.51   \n",
       "20000.0                                     -44.97   \n",
       "...                                            ...   \n",
       "392000.0                                    -46.88   \n",
       "394000.0                                    -46.78   \n",
       "396000.0                                    -46.75   \n",
       "398000.0                                    -46.99   \n",
       "400000.0                                    -46.94   \n",
       "\n",
       "           spherical fluid shell with weakly scattering interior  \\\n",
       "frequency                                                          \n",
       "12000.0                                               -99.15       \n",
       "14000.0                                               -96.79       \n",
       "16000.0                                               -94.83       \n",
       "18000.0                                               -93.20       \n",
       "20000.0                                               -91.85       \n",
       "...                                                      ...       \n",
       "392000.0                                             -108.29       \n",
       "394000.0                                             -107.19       \n",
       "396000.0                                             -106.49       \n",
       "398000.0                                             -106.14       \n",
       "400000.0                                             -106.15       \n",
       "\n",
       "           fixed rigid prolate spheroid  pressure release prolate spheroid  \\\n",
       "frequency                                                                    \n",
       "12000.0                          -35.98                             -30.16   \n",
       "14000.0                          -33.83                             -30.02   \n",
       "16000.0                          -32.20                             -29.87   \n",
       "18000.0                          -30.97                             -29.70   \n",
       "20000.0                          -30.08                             -29.54   \n",
       "...                                 ...                                ...   \n",
       "392000.0                            NaN                                NaN   \n",
       "394000.0                            NaN                                NaN   \n",
       "396000.0                            NaN                                NaN   \n",
       "398000.0                            NaN                                NaN   \n",
       "400000.0                            NaN                                NaN   \n",
       "\n",
       "           gas filled prolate spheroid  weakly scattering prolate spheroid  \\\n",
       "frequency                                                                    \n",
       "12000.0                            NaN                              -87.05   \n",
       "14000.0                            NaN                              -84.71   \n",
       "16000.0                            NaN                              -82.78   \n",
       "18000.0                            NaN                              -81.19   \n",
       "20000.0                            NaN                              -79.87   \n",
       "...                                ...                                 ...   \n",
       "392000.0                           NaN                              -86.94   \n",
       "394000.0                           NaN                              -83.45   \n",
       "396000.0                           NaN                              -81.16   \n",
       "398000.0                           NaN                              -79.55   \n",
       "400000.0                           NaN                              -78.41   \n",
       "\n",
       "           fixed rigid finite cylinder  pressure release finite cylinder  \\\n",
       "frequency                                                                  \n",
       "12000.0                         -38.75                            -35.29   \n",
       "14000.0                         -36.83                            -34.93   \n",
       "16000.0                         -35.45                            -34.56   \n",
       "18000.0                         -34.51                            -34.17   \n",
       "20000.0                         -33.95                            -33.80   \n",
       "...                                ...                               ...   \n",
       "392000.0                        -21.74                            -21.86   \n",
       "394000.0                        -21.72                            -21.84   \n",
       "396000.0                        -21.70                            -21.82   \n",
       "398000.0                        -21.68                            -21.80   \n",
       "400000.0                        -21.65                            -21.77   \n",
       "\n",
       "           gas filled finite cylinder  weakly scattering finite cylinder  \n",
       "frequency                                                                 \n",
       "12000.0                        -35.30                             -89.79  \n",
       "14000.0                        -34.93                             -87.54  \n",
       "16000.0                        -34.56                             -85.73  \n",
       "18000.0                        -34.18                             -84.27  \n",
       "20000.0                        -33.81                             -83.12  \n",
       "...                               ...                                ...  \n",
       "392000.0                       -21.92                             -70.78  \n",
       "394000.0                       -21.83                             -70.14  \n",
       "396000.0                       -21.82                             -69.78  \n",
       "398000.0                       -21.79                             -69.68  \n",
       "400000.0                       -21.79                             -69.83  \n",
       "\n",
       "[195 rows x 15 columns]"
      ]
     },
     "execution_count": 33,
     "metadata": {},
     "output_type": "execute_result"
    }
   ],
   "source": [
    "echosms.BenchmarkData().freq_dataset"
   ]
  },
  {
   "cell_type": "code",
   "execution_count": null,
   "id": "450bec6e-04f3-415e-9c24-d48bb51b0b10",
   "metadata": {
    "collapsed": true,
    "jupyter": {
     "outputs_hidden": true
    }
   },
   "outputs": [],
   "source": []
  }
 ],
 "metadata": {
  "kernelspec": {
   "display_name": "Python 3 (ipykernel)",
   "language": "python",
   "name": "python3"
  },
  "language_info": {
   "codemirror_mode": {
    "name": "ipython",
    "version": 3
   },
   "file_extension": ".py",
   "mimetype": "text/x-python",
   "name": "python",
   "nbconvert_exporter": "python",
   "pygments_lexer": "ipython3",
   "version": "3.12.9"
  }
 },
 "nbformat": 4,
 "nbformat_minor": 5
}
